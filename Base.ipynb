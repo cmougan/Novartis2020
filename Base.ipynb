{
 "cells": [
  {
   "cell_type": "markdown",
   "metadata": {},
   "source": [
    "#### Library"
   ]
  },
  {
   "cell_type": "code",
   "execution_count": 25,
   "metadata": {
    "ExecuteTime": {
     "end_time": "2020-11-27T18:38:56.065230Z",
     "start_time": "2020-11-27T18:38:55.984561Z"
    }
   },
   "outputs": [
    {
     "data": {
      "application/javascript": [
       "utils.load_extension(\"collapsible_headings/main\")\n",
       "utils.load_extension(\"hide_input/main\")\n",
       "utils.load_extension(\"autosavetime/main\")\n",
       "utils.load_extension(\"execute_time/ExecuteTime\")\n",
       "utils.load_extension(\"code_prettify/code_prettify\")\n",
       "utils.load_extension(\"scroll_down/main\")\n",
       "utils.load_extension(\"jupyter-js-widgets/extension\")\n"
      ],
      "text/plain": [
       "<IPython.core.display.Javascript object>"
      ]
     },
     "metadata": {},
     "output_type": "display_data"
    }
   ],
   "source": [
    "%%javascript\n",
    "utils.load_extension(\"collapsible_headings/main\")\n",
    "utils.load_extension(\"hide_input/main\")\n",
    "utils.load_extension(\"autosavetime/main\")\n",
    "utils.load_extension(\"execute_time/ExecuteTime\")\n",
    "utils.load_extension(\"code_prettify/code_prettify\")\n",
    "utils.load_extension(\"scroll_down/main\")\n",
    "utils.load_extension(\"jupyter-js-widgets/extension\")"
   ]
  },
  {
   "cell_type": "code",
   "execution_count": 26,
   "metadata": {
    "ExecuteTime": {
     "end_time": "2020-11-27T18:38:56.366174Z",
     "start_time": "2020-11-27T18:38:56.317886Z"
    }
   },
   "outputs": [],
   "source": [
    "import numpy as np\n",
    "import pandas as pd\n",
    "\n",
    "pd.set_option(\"display.max_columns\", None)\n",
    "from lightgbm import LGBMRegressor\n",
    "from sklearn.linear_model import LinearRegression\n",
    "from category_encoders import TargetEncoder\n",
    "\n",
    "from sklearn.metrics import mean_absolute_error\n",
    "from sklearn.pipeline import Pipeline\n",
    "from sklearn.model_selection import train_test_split, cross_val_predict\n",
    "from tools.metrics import (\n",
    "    apply_metrics,\n",
    "    prep_data_for_metric,\n",
    "    get_avg_volumes,\n",
    "    mean_absolute_percentage_error,\n",
    ")\n",
    "from catboost import CatBoostClassifier\n",
    "\n",
    "\n",
    "def compute_metrics(preds, lower, upper, y, X, avg_volumes):\n",
    "\n",
    "    id_cols = [\"country\", \"brand\"]\n",
    "\n",
    "    prepped_X = prep_data_for_metric(X, avg_volumes)\n",
    "\n",
    "    prepped_X[\"actuals\"] = y\n",
    "    prepped_X[\"forecast\"] = preds\n",
    "    prepped_X[\"lower_bound\"] = lower\n",
    "    prepped_X[\"upper_bound\"] = upper\n",
    "\n",
    "    return np.mean(abs(prepped_X.groupby(id_cols).apply(apply_metrics)))"
   ]
  },
  {
   "cell_type": "code",
   "execution_count": null,
   "metadata": {
    "ExecuteTime": {
     "end_time": "2020-11-27T05:52:29.514377Z",
     "start_time": "2020-11-27T05:52:29.425721Z"
    }
   },
   "outputs": [],
   "source": []
  },
  {
   "cell_type": "code",
   "execution_count": 28,
   "metadata": {
    "ExecuteTime": {
     "end_time": "2020-11-27T18:39:08.693763Z",
     "start_time": "2020-11-27T18:39:08.406448Z"
    }
   },
   "outputs": [],
   "source": [
    "full_df = pd.read_csv(\"data/gx_merged_lags.csv\")\n",
    "train_tuples = pd.read_csv(\"data/train_split.csv\")\n",
    "valid_tuples = pd.read_csv(\"data/valid_split.csv\")\n",
    "\n",
    "test_df = full_df[full_df.test == 1].copy().reset_index(drop=True)\n",
    "\n",
    "full_df = full_df[full_df.test == 0]\n",
    "\n",
    "train_df = full_df.merge(train_tuples, how=\"inner\").reset_index(drop=True)\n",
    "val_df = full_df.merge(valid_tuples, how=\"inner\").reset_index(drop=True)"
   ]
  },
  {
   "cell_type": "code",
   "execution_count": 29,
   "metadata": {
    "ExecuteTime": {
     "end_time": "2020-11-27T18:39:09.289694Z",
     "start_time": "2020-11-27T18:39:09.171967Z"
    }
   },
   "outputs": [],
   "source": [
    "# TODO: no need for calculation every time\n",
    "avg_volumes = get_avg_volumes()\n",
    "\n",
    "to_drop = [\"month_name\", \"volume\"]\n",
    "\n",
    "X_train = train_df.drop(columns=to_drop)\n",
    "y_train = train_df.volume\n",
    "\n",
    "X_val = val_df.drop(columns=to_drop)\n",
    "y_val = val_df.volume\n",
    "\n",
    "X_test = test_df.drop(columns=to_drop)"
   ]
  },
  {
   "cell_type": "markdown",
   "metadata": {},
   "source": [
    "## Model"
   ]
  },
  {
   "cell_type": "code",
   "execution_count": 30,
   "metadata": {
    "ExecuteTime": {
     "end_time": "2020-11-27T18:39:09.989545Z",
     "start_time": "2020-11-27T18:39:09.985290Z"
    }
   },
   "outputs": [],
   "source": [
    "lgb = LGBMRegressor(n_jobs=-1, n_estimators=100, objective=\"regression_l1\")"
   ]
  },
  {
   "cell_type": "code",
   "execution_count": 31,
   "metadata": {
    "ExecuteTime": {
     "end_time": "2020-11-27T18:39:10.469315Z",
     "start_time": "2020-11-27T18:39:10.464747Z"
    }
   },
   "outputs": [],
   "source": [
    "from sktools.encoders import QuantileEncoder"
   ]
  },
  {
   "cell_type": "code",
   "execution_count": 32,
   "metadata": {
    "ExecuteTime": {
     "end_time": "2020-11-27T18:39:10.913159Z",
     "start_time": "2020-11-27T18:39:10.906960Z"
    }
   },
   "outputs": [],
   "source": [
    "categorical_cols = [\"country\", \"brand\", \"therapeutic_area\", \"presentation\"]\n",
    "te = TargetEncoder(cols=categorical_cols)\n",
    "te = QuantileEncoder(cols=categorical_cols)\n",
    "te_residual = TargetEncoder(cols=categorical_cols)"
   ]
  },
  {
   "cell_type": "code",
   "execution_count": 33,
   "metadata": {
    "ExecuteTime": {
     "end_time": "2020-11-27T18:39:11.597657Z",
     "start_time": "2020-11-27T18:39:11.592257Z"
    }
   },
   "outputs": [],
   "source": [
    "pipe = Pipeline([(\"te\", te), (\"cb\", lgb)])"
   ]
  },
  {
   "cell_type": "code",
   "execution_count": 34,
   "metadata": {
    "ExecuteTime": {
     "end_time": "2020-11-27T18:39:14.102765Z",
     "start_time": "2020-11-27T18:39:11.986980Z"
    },
    "scrolled": true
   },
   "outputs": [
    {
     "name": "stderr",
     "output_type": "stream",
     "text": [
      "/opt/anaconda3/lib/python3.7/site-packages/category_encoders/utils.py:21: FutureWarning: is_categorical is deprecated and will be removed in a future version.  Use is_categorical_dtype instead\n",
      "  elif pd.api.types.is_categorical(cols):\n"
     ]
    }
   ],
   "source": [
    "cv_preds = cross_val_predict(pipe, X_train, y_train, cv=3)"
   ]
  },
  {
   "cell_type": "code",
   "execution_count": 35,
   "metadata": {
    "ExecuteTime": {
     "end_time": "2020-11-27T18:39:14.792066Z",
     "start_time": "2020-11-27T18:39:14.104880Z"
    }
   },
   "outputs": [
    {
     "data": {
      "text/plain": [
       "Pipeline(memory=None,\n",
       "         steps=[('te',\n",
       "                 QuantileEncoder(cols=['country', 'brand', 'therapeutic_area',\n",
       "                                       'presentation'],\n",
       "                                 drop_invariant=False, handle_missing='value',\n",
       "                                 handle_unknown='value', m=1.0, quantile=0.5,\n",
       "                                 return_df=True, verbose=0)),\n",
       "                ('cb',\n",
       "                 LGBMRegressor(boosting_type='gbdt', class_weight=None,\n",
       "                               colsample_bytree=1.0, importance_type='split',\n",
       "                               learning_rate=0.1, max_depth=-1,\n",
       "                               min_child_samples=20, min_child_weight=0.001,\n",
       "                               min_split_gain=0.0, n_estimators=100, n_jobs=-1,\n",
       "                               num_leaves=31, objective='regression_l1',\n",
       "                               random_state=None, reg_alpha=0.0, reg_lambda=0.0,\n",
       "                               silent=True, subsample=1.0,\n",
       "                               subsample_for_bin=200000, subsample_freq=0))],\n",
       "         verbose=False)"
      ]
     },
     "execution_count": 35,
     "metadata": {},
     "output_type": "execute_result"
    }
   ],
   "source": [
    "pipe.fit(X_train, y_train)"
   ]
  },
  {
   "cell_type": "code",
   "execution_count": 36,
   "metadata": {
    "ExecuteTime": {
     "end_time": "2020-11-27T18:39:14.853999Z",
     "start_time": "2020-11-27T18:39:14.796016Z"
    }
   },
   "outputs": [],
   "source": [
    "preds = pipe.predict(X_val)"
   ]
  },
  {
   "cell_type": "markdown",
   "metadata": {},
   "source": [
    "## Residuals"
   ]
  },
  {
   "cell_type": "markdown",
   "metadata": {},
   "source": [
    "### Predict val error"
   ]
  },
  {
   "cell_type": "code",
   "execution_count": 37,
   "metadata": {
    "ExecuteTime": {
     "end_time": "2020-11-27T18:39:14.862024Z",
     "start_time": "2020-11-27T18:39:14.856360Z"
    }
   },
   "outputs": [],
   "source": [
    "lgb_residual = LGBMRegressor(n_jobs=-1, n_estimators=100, objective=\"regression_l1\")"
   ]
  },
  {
   "cell_type": "code",
   "execution_count": 38,
   "metadata": {
    "ExecuteTime": {
     "end_time": "2020-11-27T18:39:16.027503Z",
     "start_time": "2020-11-27T18:39:16.023170Z"
    }
   },
   "outputs": [],
   "source": [
    "pipe_residual = Pipeline([(\"te\", te_residual), (\"lgb\", lgb_residual)])"
   ]
  },
  {
   "cell_type": "code",
   "execution_count": 39,
   "metadata": {
    "ExecuteTime": {
     "end_time": "2020-11-27T18:39:16.258414Z",
     "start_time": "2020-11-27T18:39:16.253203Z"
    },
    "scrolled": true
   },
   "outputs": [],
   "source": [
    "y_train_residual = np.abs(cv_preds - y_train)"
   ]
  },
  {
   "cell_type": "code",
   "execution_count": 40,
   "metadata": {
    "ExecuteTime": {
     "end_time": "2020-11-27T18:39:17.015442Z",
     "start_time": "2020-11-27T18:39:16.433260Z"
    }
   },
   "outputs": [],
   "source": [
    "pipe_residual.fit(X_train, y_train_residual)\n",
    "\n",
    "preds_residual = pipe_residual.predict(X_val)"
   ]
  },
  {
   "cell_type": "markdown",
   "metadata": {
    "ExecuteTime": {
     "end_time": "2020-11-27T05:22:07.221455Z",
     "start_time": "2020-11-27T05:22:07.218427Z"
    }
   },
   "source": [
    "## Results"
   ]
  },
  {
   "cell_type": "code",
   "execution_count": 41,
   "metadata": {
    "ExecuteTime": {
     "end_time": "2020-11-27T18:39:17.921166Z",
     "start_time": "2020-11-27T18:39:17.907969Z"
    }
   },
   "outputs": [],
   "source": [
    "submission_df = pd.read_csv(\"data/submission_template.csv\")"
   ]
  },
  {
   "cell_type": "code",
   "execution_count": 42,
   "metadata": {
    "ExecuteTime": {
     "end_time": "2020-11-27T18:39:18.571553Z",
     "start_time": "2020-11-27T18:39:18.490573Z"
    }
   },
   "outputs": [],
   "source": [
    "preds_test = pipe.predict(X_test)\n",
    "preds_test_residual = pipe_residual.predict(X_test)"
   ]
  },
  {
   "cell_type": "code",
   "execution_count": 77,
   "metadata": {
    "ExecuteTime": {
     "end_time": "2020-11-28T06:26:22.214918Z",
     "start_time": "2020-11-28T06:26:17.243519Z"
    }
   },
   "outputs": [
    {
     "name": "stdout",
     "output_type": "stream",
     "text": [
      "Bound: 0\n",
      "custom_metric          68.016131\n",
      "uncertainty_metric    393.853192\n",
      "dtype: float64\n",
      "Bound: 0.01\n",
      "custom_metric          68.016131\n",
      "uncertainty_metric    393.853192\n",
      "dtype: float64\n",
      "Bound: 0.1\n",
      "custom_metric          68.016131\n",
      "uncertainty_metric    393.853192\n",
      "dtype: float64\n",
      "Bound: 0.5\n",
      "custom_metric          68.016131\n",
      "uncertainty_metric    393.853192\n",
      "dtype: float64\n",
      "Bound: 1\n",
      "custom_metric          68.016131\n",
      "uncertainty_metric    393.853192\n",
      "dtype: float64\n",
      "Bound: 1.5\n",
      "custom_metric          68.016131\n",
      "uncertainty_metric    393.853192\n",
      "dtype: float64\n"
     ]
    }
   ],
   "source": [
    "\n",
    "bounds = [0, 0.01, 0.1, 0.5, 1, 1.5]\n",
    "\n",
    "\n",
    "min_unc = 1e8\n",
    "best_bound = 0\n",
    "for bound in bounds:\n",
    "    print(f\"Bound: {bound}\")\n",
    "    metric_pair = compute_metrics(\n",
    "        preds,\n",
    "        preds-1,\n",
    "        preds + 1,\n",
    "        y_val,\n",
    "        X_val,\n",
    "        avg_volumes,\n",
    "    )\n",
    "    print(metric_pair)\n",
    "\n",
    "    unc_metric = metric_pair.values[1]\n",
    "\n",
    "    if unc_metric < min_unc:\n",
    "        min_unc = unc_metric\n",
    "        best_bound = bound"
   ]
  },
  {
   "cell_type": "code",
   "execution_count": 75,
   "metadata": {
    "ExecuteTime": {
     "end_time": "2020-11-28T06:23:46.330607Z",
     "start_time": "2020-11-28T06:23:46.248282Z"
    }
   },
   "outputs": [
    {
     "data": {
      "text/plain": [
       "array([9622506.76849406, 6498575.00810418, 5747510.70862589, ...,\n",
       "       1626388.14393125, 1626388.14393125, 1626388.14393125])"
      ]
     },
     "execution_count": 75,
     "metadata": {},
     "output_type": "execute_result"
    }
   ],
   "source": [
    "preds"
   ]
  },
  {
   "cell_type": "code",
   "execution_count": 45,
   "metadata": {
    "ExecuteTime": {
     "end_time": "2020-11-27T18:39:28.592945Z",
     "start_time": "2020-11-27T18:39:28.583135Z"
    },
    "scrolled": true
   },
   "outputs": [
    {
     "name": "stdout",
     "output_type": "stream",
     "text": [
      "214.31630035913284\n",
      "0.1\n"
     ]
    }
   ],
   "source": [
    "print(min_unc)\n",
    "print(best_bound)"
   ]
  },
  {
   "cell_type": "code",
   "execution_count": 46,
   "metadata": {
    "ExecuteTime": {
     "end_time": "2020-11-27T18:39:28.941183Z",
     "start_time": "2020-11-27T18:39:28.931283Z"
    }
   },
   "outputs": [],
   "source": [
    "submission_df[\"pred_95_low\"] = np.maximum(preds_test - best_bound * preds_test_residual, 0)\n",
    "\n",
    "submission_df[\"pred_95_high\"] = np.maximum(preds_test + best_bound * preds_test_residual,0)\n",
    "\n",
    "submission_df[\"prediction\"] = np.maximum(preds_test, 0)"
   ]
  },
  {
   "cell_type": "code",
   "execution_count": 74,
   "metadata": {
    "ExecuteTime": {
     "end_time": "2020-11-27T18:45:11.586327Z",
     "start_time": "2020-11-27T18:45:11.542090Z"
    }
   },
   "outputs": [],
   "source": [
    "submission_df.to_csv(\"submissions/baseline.csv\", index=False)"
   ]
  },
  {
   "cell_type": "code",
   "execution_count": 70,
   "metadata": {
    "ExecuteTime": {
     "end_time": "2020-11-27T18:45:02.378185Z",
     "start_time": "2020-11-27T18:45:02.367144Z"
    }
   },
   "outputs": [
    {
     "data": {
      "text/html": [
       "<div>\n",
       "<style scoped>\n",
       "    .dataframe tbody tr th:only-of-type {\n",
       "        vertical-align: middle;\n",
       "    }\n",
       "\n",
       "    .dataframe tbody tr th {\n",
       "        vertical-align: top;\n",
       "    }\n",
       "\n",
       "    .dataframe thead th {\n",
       "        text-align: right;\n",
       "    }\n",
       "</style>\n",
       "<table border=\"1\" class=\"dataframe\">\n",
       "  <thead>\n",
       "    <tr style=\"text-align: right;\">\n",
       "      <th></th>\n",
       "      <th>country</th>\n",
       "      <th>brand</th>\n",
       "      <th>month_num</th>\n",
       "      <th>pred_95_low</th>\n",
       "      <th>prediction</th>\n",
       "      <th>pred_95_high</th>\n",
       "    </tr>\n",
       "  </thead>\n",
       "  <tbody>\n",
       "  </tbody>\n",
       "</table>\n",
       "</div>"
      ],
      "text/plain": [
       "Empty DataFrame\n",
       "Columns: [country, brand, month_num, pred_95_low, prediction, pred_95_high]\n",
       "Index: []"
      ]
     },
     "execution_count": 70,
     "metadata": {},
     "output_type": "execute_result"
    }
   ],
   "source": [
    "submission_df[submission_df.pred_95_high<submission_df.prediction]"
   ]
  },
  {
   "cell_type": "code",
   "execution_count": 71,
   "metadata": {
    "ExecuteTime": {
     "end_time": "2020-11-27T18:45:02.387248Z",
     "start_time": "2020-11-27T18:45:02.381514Z"
    }
   },
   "outputs": [],
   "source": [
    "submission_df.iloc[1272,submission_df.columns.get_loc('pred_95_low')] = 158984\n",
    "submission_df.iloc[1272,submission_df.columns.get_loc('pred_95_high')] = 163442"
   ]
  },
  {
   "cell_type": "code",
   "execution_count": 72,
   "metadata": {
    "ExecuteTime": {
     "end_time": "2020-11-27T18:45:02.396087Z",
     "start_time": "2020-11-27T18:45:02.390715Z"
    }
   },
   "outputs": [
    {
     "name": "stderr",
     "output_type": "stream",
     "text": [
      "/opt/anaconda3/lib/python3.7/site-packages/ipykernel_launcher.py:1: SettingWithCopyWarning: \n",
      "A value is trying to be set on a copy of a slice from a DataFrame\n",
      "\n",
      "See the caveats in the documentation: https://pandas.pydata.org/pandas-docs/stable/user_guide/indexing.html#returning-a-view-versus-a-copy\n",
      "  \"\"\"Entry point for launching an IPython kernel.\n",
      "/opt/anaconda3/lib/python3.7/site-packages/pandas/core/generic.py:5168: SettingWithCopyWarning: \n",
      "A value is trying to be set on a copy of a slice from a DataFrame\n",
      "\n",
      "See the caveats in the documentation: https://pandas.pydata.org/pandas-docs/stable/user_guide/indexing.html#returning-a-view-versus-a-copy\n",
      "  self[name] = value\n"
     ]
    }
   ],
   "source": [
    "submission_df.iloc[1272]['pred_95_low']= 158984\n",
    "submission_df.iloc[1272].pred_95_high = 163442"
   ]
  },
  {
   "cell_type": "code",
   "execution_count": 73,
   "metadata": {
    "ExecuteTime": {
     "end_time": "2020-11-27T18:45:04.781271Z",
     "start_time": "2020-11-27T18:45:04.769613Z"
    }
   },
   "outputs": [
    {
     "data": {
      "text/html": [
       "<div>\n",
       "<style scoped>\n",
       "    .dataframe tbody tr th:only-of-type {\n",
       "        vertical-align: middle;\n",
       "    }\n",
       "\n",
       "    .dataframe tbody tr th {\n",
       "        vertical-align: top;\n",
       "    }\n",
       "\n",
       "    .dataframe thead th {\n",
       "        text-align: right;\n",
       "    }\n",
       "</style>\n",
       "<table border=\"1\" class=\"dataframe\">\n",
       "  <thead>\n",
       "    <tr style=\"text-align: right;\">\n",
       "      <th></th>\n",
       "      <th>country</th>\n",
       "      <th>brand</th>\n",
       "      <th>month_num</th>\n",
       "      <th>pred_95_low</th>\n",
       "      <th>prediction</th>\n",
       "      <th>pred_95_high</th>\n",
       "    </tr>\n",
       "  </thead>\n",
       "  <tbody>\n",
       "  </tbody>\n",
       "</table>\n",
       "</div>"
      ],
      "text/plain": [
       "Empty DataFrame\n",
       "Columns: [country, brand, month_num, pred_95_low, prediction, pred_95_high]\n",
       "Index: []"
      ]
     },
     "execution_count": 73,
     "metadata": {},
     "output_type": "execute_result"
    }
   ],
   "source": [
    "submission_df[submission_df.pred_95_low>submission_df.prediction]"
   ]
  },
  {
   "cell_type": "code",
   "execution_count": 49,
   "metadata": {
    "ExecuteTime": {
     "end_time": "2020-11-27T18:39:32.325327Z",
     "start_time": "2020-11-27T18:39:32.281041Z"
    }
   },
   "outputs": [
    {
     "data": {
      "text/html": [
       "<div>\n",
       "<style scoped>\n",
       "    .dataframe tbody tr th:only-of-type {\n",
       "        vertical-align: middle;\n",
       "    }\n",
       "\n",
       "    .dataframe tbody tr th {\n",
       "        vertical-align: top;\n",
       "    }\n",
       "\n",
       "    .dataframe thead th {\n",
       "        text-align: right;\n",
       "    }\n",
       "</style>\n",
       "<table border=\"1\" class=\"dataframe\">\n",
       "  <thead>\n",
       "    <tr style=\"text-align: right;\">\n",
       "      <th></th>\n",
       "      <th>month_num</th>\n",
       "      <th>pred_95_low</th>\n",
       "      <th>prediction</th>\n",
       "      <th>pred_95_high</th>\n",
       "    </tr>\n",
       "  </thead>\n",
       "  <tbody>\n",
       "    <tr>\n",
       "      <th>count</th>\n",
       "      <td>4584.000000</td>\n",
       "      <td>4.584000e+03</td>\n",
       "      <td>4.584000e+03</td>\n",
       "      <td>4.584000e+03</td>\n",
       "    </tr>\n",
       "    <tr>\n",
       "      <th>mean</th>\n",
       "      <td>11.500000</td>\n",
       "      <td>7.483466e+07</td>\n",
       "      <td>7.901376e+07</td>\n",
       "      <td>8.319462e+07</td>\n",
       "    </tr>\n",
       "    <tr>\n",
       "      <th>std</th>\n",
       "      <td>6.922942</td>\n",
       "      <td>3.315771e+08</td>\n",
       "      <td>3.500679e+08</td>\n",
       "      <td>3.686315e+08</td>\n",
       "    </tr>\n",
       "    <tr>\n",
       "      <th>min</th>\n",
       "      <td>0.000000</td>\n",
       "      <td>0.000000e+00</td>\n",
       "      <td>0.000000e+00</td>\n",
       "      <td>0.000000e+00</td>\n",
       "    </tr>\n",
       "    <tr>\n",
       "      <th>25%</th>\n",
       "      <td>5.750000</td>\n",
       "      <td>3.370674e+05</td>\n",
       "      <td>4.189889e+05</td>\n",
       "      <td>5.289468e+05</td>\n",
       "    </tr>\n",
       "    <tr>\n",
       "      <th>50%</th>\n",
       "      <td>11.500000</td>\n",
       "      <td>2.764279e+06</td>\n",
       "      <td>3.145931e+06</td>\n",
       "      <td>3.537031e+06</td>\n",
       "    </tr>\n",
       "    <tr>\n",
       "      <th>75%</th>\n",
       "      <td>17.250000</td>\n",
       "      <td>1.683037e+07</td>\n",
       "      <td>1.799640e+07</td>\n",
       "      <td>1.972780e+07</td>\n",
       "    </tr>\n",
       "    <tr>\n",
       "      <th>max</th>\n",
       "      <td>23.000000</td>\n",
       "      <td>2.522287e+09</td>\n",
       "      <td>2.688551e+09</td>\n",
       "      <td>2.854815e+09</td>\n",
       "    </tr>\n",
       "  </tbody>\n",
       "</table>\n",
       "</div>"
      ],
      "text/plain": [
       "         month_num   pred_95_low    prediction  pred_95_high\n",
       "count  4584.000000  4.584000e+03  4.584000e+03  4.584000e+03\n",
       "mean     11.500000  7.483466e+07  7.901376e+07  8.319462e+07\n",
       "std       6.922942  3.315771e+08  3.500679e+08  3.686315e+08\n",
       "min       0.000000  0.000000e+00  0.000000e+00  0.000000e+00\n",
       "25%       5.750000  3.370674e+05  4.189889e+05  5.289468e+05\n",
       "50%      11.500000  2.764279e+06  3.145931e+06  3.537031e+06\n",
       "75%      17.250000  1.683037e+07  1.799640e+07  1.972780e+07\n",
       "max      23.000000  2.522287e+09  2.688551e+09  2.854815e+09"
      ]
     },
     "execution_count": 49,
     "metadata": {},
     "output_type": "execute_result"
    }
   ],
   "source": [
    "submission_df.describe()"
   ]
  },
  {
   "cell_type": "code",
   "execution_count": null,
   "metadata": {},
   "outputs": [],
   "source": []
  }
 ],
 "metadata": {
  "kernelspec": {
   "display_name": "Python 3",
   "language": "python",
   "name": "python3"
  },
  "language_info": {
   "codemirror_mode": {
    "name": "ipython",
    "version": 3
   },
   "file_extension": ".py",
   "mimetype": "text/x-python",
   "name": "python",
   "nbconvert_exporter": "python",
   "pygments_lexer": "ipython3",
   "version": "3.7.6"
  }
 },
 "nbformat": 4,
 "nbformat_minor": 4
}
