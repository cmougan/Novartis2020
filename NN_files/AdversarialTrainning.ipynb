{
 "cells": [
  {
   "cell_type": "code",
   "execution_count": 48,
   "metadata": {
    "ExecuteTime": {
     "end_time": "2020-11-28T18:43:40.979624Z",
     "start_time": "2020-11-28T18:43:40.969046Z"
    }
   },
   "outputs": [
    {
     "data": {
      "application/javascript": [
       "utils.load_extension(\"collapsible_headings/main\")\n",
       "utils.load_extension(\"hide_input/main\")\n",
       "utils.load_extension(\"autosavetime/main\")\n",
       "utils.load_extension(\"execute_time/ExecuteTime\")\n",
       "utils.load_extension(\"code_prettify/code_prettify\")\n",
       "utils.load_extension(\"scroll_down/main\")\n",
       "utils.load_extension(\"jupyter-js-widgets/extension\")\n"
      ],
      "text/plain": [
       "<IPython.core.display.Javascript object>"
      ]
     },
     "metadata": {},
     "output_type": "display_data"
    }
   ],
   "source": [
    "%%javascript\n",
    "utils.load_extension(\"collapsible_headings/main\")\n",
    "utils.load_extension(\"hide_input/main\")\n",
    "utils.load_extension(\"autosavetime/main\")\n",
    "utils.load_extension(\"execute_time/ExecuteTime\")\n",
    "utils.load_extension(\"code_prettify/code_prettify\")\n",
    "utils.load_extension(\"scroll_down/main\")\n",
    "utils.load_extension(\"jupyter-js-widgets/extension\")"
   ]
  },
  {
   "cell_type": "code",
   "execution_count": 49,
   "metadata": {
    "ExecuteTime": {
     "end_time": "2020-11-28T18:43:41.340483Z",
     "start_time": "2020-11-28T18:43:41.324981Z"
    }
   },
   "outputs": [],
   "source": [
    "\n",
    "import numpy as np\n",
    "import pandas as pd\n",
    "pd.set_option('display.max_columns', None)\n",
    "import matplotlib.pyplot as plt\n",
    "from category_encoders import TargetEncoder\n",
    "\n",
    "plt.style.use(\"seaborn\")\n",
    "import torch\n",
    "import torch.nn as nn\n",
    "import torch.optim as optim\n",
    "from torch.utils.data import Dataset, DataLoader, random_split\n",
    "from sklearn.metrics import mean_squared_error\n",
    "\n",
    "from nnet import ReadDataset, Net,ResNet\n",
    "import time\n",
    "from loss_functions import interval_score_loss\n",
    "\n",
    "from pytorch_tabnet.tab_model import TabNetClassifier\n",
    "from gauss_rank_scaler import GaussRankScaler\n",
    "tic = time.time()\n",
    "from models.lgbm import (compute_metrics, preprocess)\n",
    "\n",
    "from tools.metrics import (\n",
    "    get_avg_volumes,\n",
    ")\n",
    "from sklearn.model_selection import train_test_split\n",
    "from catboost import CatBoostClassifier\n",
    "from sklearn.metrics import roc_auc_score"
   ]
  },
  {
   "cell_type": "code",
   "execution_count": 50,
   "metadata": {
    "ExecuteTime": {
     "end_time": "2020-11-28T18:43:41.561829Z",
     "start_time": "2020-11-28T18:43:41.554235Z"
    }
   },
   "outputs": [],
   "source": [
    "\n",
    "def plot_feature_importance(\n",
    "    columnas, model_features, columns_ploted=10, model_name=\"Catboost\"\n",
    "):\n",
    "    \"\"\"\n",
    "    This method is yet non-tested\n",
    "    \n",
    "    This function receives a set of columns feeded to a model, and the importance of each of feature.\n",
    "    Returns a graphical visualization\n",
    "    \n",
    "    Call it fot catboost pipe example:\n",
    "    plot_feature_importance(pipe_best_estimator[:-1].transform(X_tr).columns,pipe_best_estimator.named_steps['cb'].get_feature_importance(),20)\n",
    "    \n",
    "    Call it for lasso pipe example:\n",
    "    plot_feature_importance(pipe_best_estimator[:-1].transform(X_tr).columns,np.array(pipe_best_estimator.named_steps['clf'].coef_.squeeze()),20)\n",
    "    \"\"\"\n",
    "\n",
    "    feature_importance = pd.Series(index=columnas, data=np.abs(model_features))\n",
    "    n_selected_features = (feature_importance > 0).sum()\n",
    "    print(\n",
    "        \"{0:d} features, reduction of {1:2.2f}%\".format(\n",
    "            n_selected_features,\n",
    "            (1 - n_selected_features / len(feature_importance)) * 100,\n",
    "        )\n",
    "    )\n",
    "    plt.figure()\n",
    "    feature_importance.sort_values().tail(columns_ploted).plot(\n",
    "        kind=\"bar\", figsize=(18, 6)\n",
    "    )\n",
    "    plt.title(\"Feature Importance for {}\".format(model_name))\n",
    "    plt.show()\n",
    "\n"
   ]
  },
  {
   "cell_type": "code",
   "execution_count": 51,
   "metadata": {
    "ExecuteTime": {
     "end_time": "2020-11-28T18:43:41.778332Z",
     "start_time": "2020-11-28T18:43:41.761056Z"
    }
   },
   "outputs": [],
   "source": [
    "\n",
    "def my_metric(pred, lower, upper):\n",
    "\n",
    "    metric_pair = compute_metrics(\n",
    "        preds=pred,\n",
    "        lower=lower,\n",
    "        upper=upper,\n",
    "        y=val_y_raw,\n",
    "        offset=val_offset,\n",
    "        X=val_x_orig,\n",
    "        avg_volumes=avg_volumes,\n",
    "    )\n",
    "    return metric_pair[0],metric_pair[1]\n",
    "\n",
    "\n",
    "def postprocess_submission(submission_df, solve_submission_issues=True):\n",
    "\n",
    "    join_on = [\"country\", \"brand\", \"month_num\"]\n",
    "    keep = join_on + [\"volume\"]\n",
    "\n",
    "    df_vol = pd.read_csv(\"../data/gx_volume.csv\").loc[:, keep]\n",
    "\n",
    "    both_ds = submission_df.merge(\n",
    "        df_vol,\n",
    "        on=join_on,\n",
    "        how=\"left\",\n",
    "    )\n",
    "\n",
    "    both_ds.loc[both_ds[\"volume\"].notnull(), \"prediction\"] = both_ds[both_ds[\"volume\"].notnull()][\"volume\"].values\n",
    "    both_ds.loc[both_ds[\"volume\"].notnull(), \"pred_95_high\"] = both_ds[both_ds[\"volume\"].notnull()][\"volume\"].values + 0.01\n",
    "    both_ds.loc[both_ds[\"volume\"].notnull(), \"pred_95_low\"] = both_ds[both_ds[\"volume\"].notnull()][\"volume\"].values - 0.01\n",
    "\n",
    "    final_cols = join_on + [\"pred_95_low\", \"prediction\", \"pred_95_high\"]\n",
    "\n",
    "    final_df =  both_ds.loc[:, final_cols]\n",
    "\n",
    "    if solve_submission_issues:\n",
    "\n",
    "        if (final_df.pred_95_low > final_df.pred_95_high).any():\n",
    "            raise(\"Stop please, upper < lower\")\n",
    "\n",
    "        cond_lower_mean = final_df.pred_95_low > final_df.prediction\n",
    "        if cond_lower_mean.any():\n",
    "            print(\"Solving lower > mean\")\n",
    "            final_df.loc[cond_lower_mean, \"prediction\"] = \\\n",
    "                final_df.loc[cond_lower_mean, \"pred_95_low\"] + 0.01\n",
    "\n",
    "        cond_upper_mean = final_df.prediction > final_df.pred_95_high\n",
    "        if cond_upper_mean.any():\n",
    "            print(\"Solving upper < mean\")\n",
    "            final_df.loc[cond_upper_mean, \"prediction\"] = \\\n",
    "                final_df.loc[cond_upper_mean, \"pred_95_high\"] - 0.01\n",
    "\n",
    "\n",
    "    return final_df\n",
    "\n"
   ]
  },
  {
   "cell_type": "code",
   "execution_count": 52,
   "metadata": {
    "ExecuteTime": {
     "end_time": "2020-11-28T18:43:42.713164Z",
     "start_time": "2020-11-28T18:43:42.098549Z"
    }
   },
   "outputs": [],
   "source": [
    "file_name = \"linear_base\"\n",
    "offset_name = \"last_before_3_after_0\"\n",
    "full_df = pd.read_csv(\"../data/gx_merged_lags_months.csv\")\n",
    "    # volume_features = pd.read_csv(\"data/volume_features.csv\")\n",
    "submission_df = pd.read_csv(\"../data/submission_template.csv\")\n",
    "train_tuples = pd.read_csv(\"../data/train_split.csv\")\n",
    "valid_tuples = pd.read_csv(\"../data/valid_split.csv\")\n",
    "\n",
    " \n",
    "# full_df = full_df.merge(volume_features, on=[\"country\", \"brand\"])\n",
    "\n",
    "\n",
    "full_df[\"volume_offset\"] = (full_df[\"volume\"] - full_df[offset_name]) / full_df[offset_name]\n",
    "full_df = preprocess(full_df)\n",
    "\n",
    "test_df = full_df[full_df.test == 1].copy().reset_index(drop=True)\n",
    "\n",
    "real_full = full_df.copy()\n",
    "\n",
    "#full_df = full_df[full_df.test == 0]\n",
    "\n",
    "train_df = full_df.merge(train_tuples, how=\"inner\").reset_index(drop=True)\n",
    "val_df = full_df.merge(valid_tuples, how=\"inner\").reset_index(drop=True)\n",
    "\n",
    "    # TODO: no need for calculation every time\n",
    "avg_volumes = get_avg_volumes()\n",
    "\n",
    "to_drop = [\"volume\", \"volume_offset\",'test','A','country_mean_before_24_after_0']\n",
    "categorical_cols = [\n",
    "        \"country\", \"brand\", \"therapeutic_area\", \"presentation\", \"month_name\",\n",
    "        \"month_country\", \"month_presentation\", \"month_area\",\n",
    "        \"month_country_num\", \"month_presentation_num\", \"month_area_num\",\n",
    "        \"month_month_num\"\n",
    "    ]\n",
    "\n",
    "    # Prep data\n",
    "train_x = train_df.drop(columns=to_drop)\n",
    "train_y = train_df.volume_offset\n",
    "train_offset = train_df[offset_name]\n",
    "\n",
    "\n",
    "\n",
    "full_x = full_df.drop(columns=to_drop)\n",
    "full_y = full_df.volume_offset\n",
    "full_offset = full_df[offset_name]\n",
    "\n",
    "real_full_x = real_full.drop(columns=to_drop)\n",
    "\n",
    "\n",
    "val_x = val_df.drop(columns=to_drop)\n",
    "val_x_orig = val_x\n",
    "val_y = val_df.volume_offset\n",
    "val_y_raw = val_df.volume\n",
    "val_offset = val_df[offset_name]\n",
    "\n",
    "test_x = test_df.drop(columns=to_drop)\n",
    "test_offset = test_df[offset_name]"
   ]
  },
  {
   "cell_type": "code",
   "execution_count": 70,
   "metadata": {
    "ExecuteTime": {
     "end_time": "2020-11-28T18:44:44.766808Z",
     "start_time": "2020-11-28T18:44:44.759172Z"
    }
   },
   "outputs": [],
   "source": [
    "df = full_df._get_numeric_data()\n",
    "df = df.drop(\n",
    "    columns=[\n",
    "        \"volume_offset\",\n",
    "        \"volume\",\n",
    "        \"mean_before_Inf_after_0\",\n",
    "        \"median_before_24_after_0\",\n",
    "        \"brand_median_before_Inf_after_0\",\n",
    "        \"median_before_Inf_after_0\",\n",
    "        \"country_mean_before_Inf_after_0\",\n",
    "        \"brand_mean_before_Inf_after_0\",\n",
    "        \"mean_before_3_after_0\",\n",
    "        \"median_before_12_after_0\",\n",
    "        \"mean_before_24_after_0\",\n",
    "        \"brand_mean_before_3_after_0\",\n",
    "        \"country_mean_before_3_after_0\",\n",
    "        \"brand_median_before_12_after_0\",\n",
    "        \"brand_mean_before_24_after_0\",\n",
    "        \"median_before_3_after_0\",\n",
    "        \"mean_before_12_after_0\",\n",
    "        \"brand_mean_before_12_after_0\",\n",
    "        \"brand_median_before_24_after_0\",\n",
    "        \"brand_median_before_3_after_0\",\n",
    "        \"B\",\n",
    "        \"D\",\n",
    "        \"country_mean_before_24_after_0\",\n",
    "        \"brand_last_before_Inf_after_0\",\n",
    "        \"country_mean_before_12_after_0\",\n",
    "        \"brand_last_before_24_after_0\",\n",
    "        \"num_generics\",\n",
    "        \"brand_last_before_3_after_0\",\n",
    "        \"brand_last_before_12_after_0\",\n",
    "        \"last_before_3_after_0\",\n",
    "        \"last_before_24_after_0\",\n",
    "        \"C\",\n",
    "    ]\n",
    ")"
   ]
  },
  {
   "cell_type": "code",
   "execution_count": 71,
   "metadata": {
    "ExecuteTime": {
     "end_time": "2020-11-28T18:44:45.206550Z",
     "start_time": "2020-11-28T18:44:45.201119Z"
    }
   },
   "outputs": [],
   "source": [
    "df['random'] = np.random.rand(df.shape[0])"
   ]
  },
  {
   "cell_type": "code",
   "execution_count": 72,
   "metadata": {
    "ExecuteTime": {
     "end_time": "2020-11-28T18:44:45.466627Z",
     "start_time": "2020-11-28T18:44:45.453616Z"
    }
   },
   "outputs": [],
   "source": [
    "X_train, X_test, y_train, y_test = train_test_split(df.drop(columns='test'),df.test)"
   ]
  },
  {
   "cell_type": "code",
   "execution_count": 73,
   "metadata": {
    "ExecuteTime": {
     "end_time": "2020-11-28T18:44:46.210027Z",
     "start_time": "2020-11-28T18:44:45.789549Z"
    }
   },
   "outputs": [
    {
     "data": {
      "text/plain": [
       "<catboost.core.CatBoostClassifier at 0x7ff8b2577910>"
      ]
     },
     "execution_count": 73,
     "metadata": {},
     "output_type": "execute_result"
    }
   ],
   "source": [
    "cb = CatBoostClassifier(iterations=100,verbose=0)\n",
    "cb.fit(X_train,y_train)\n"
   ]
  },
  {
   "cell_type": "code",
   "execution_count": 74,
   "metadata": {
    "ExecuteTime": {
     "end_time": "2020-11-28T18:44:46.496604Z",
     "start_time": "2020-11-28T18:44:46.213214Z"
    },
    "scrolled": false
   },
   "outputs": [
    {
     "name": "stdout",
     "output_type": "stream",
     "text": [
      "14 features, reduction of 0.00%\n"
     ]
    },
    {
     "data": {
      "image/png": "[encoded data removed]",
      "text/plain": [
       "<Figure size 1296x432 with 1 Axes>"
      ]
     },
     "metadata": {},
     "output_type": "display_data"
    }
   ],
   "source": [
    "plot_feature_importance(X_train.columns,cb.get_feature_importance(),50)"
   ]
  },
  {
   "cell_type": "code",
   "execution_count": 75,
   "metadata": {
    "ExecuteTime": {
     "end_time": "2020-11-28T18:44:46.887710Z",
     "start_time": "2020-11-28T18:44:46.874186Z"
    }
   },
   "outputs": [
    {
     "data": {
      "text/plain": [
       "0.6792335820020001"
      ]
     },
     "execution_count": 75,
     "metadata": {},
     "output_type": "execute_result"
    }
   ],
   "source": [
    "roc_auc_score(y_test,cb.predict(X_test))"
   ]
  },
  {
   "cell_type": "code",
   "execution_count": null,
   "metadata": {
    "ExecuteTime": {
     "end_time": "2020-11-28T17:11:42.112593Z",
     "start_time": "2020-11-28T17:11:42.097334Z"
    },
    "scrolled": false
   },
   "outputs": [],
   "source": []
  },
  {
   "cell_type": "code",
   "execution_count": 67,
   "metadata": {
    "ExecuteTime": {
     "end_time": "2020-11-28T18:44:29.919314Z",
     "start_time": "2020-11-28T18:44:29.901946Z"
    },
    "scrolled": true
   },
   "outputs": [
    {
     "data": {
      "text/html": [
       "<div>\n",
       "<style scoped>\n",
       "    .dataframe tbody tr th:only-of-type {\n",
       "        vertical-align: middle;\n",
       "    }\n",
       "\n",
       "    .dataframe tbody tr th {\n",
       "        vertical-align: top;\n",
       "    }\n",
       "\n",
       "    .dataframe thead th {\n",
       "        text-align: right;\n",
       "    }\n",
       "</style>\n",
       "<table border=\"1\" class=\"dataframe\">\n",
       "  <thead>\n",
       "    <tr style=\"text-align: right;\">\n",
       "      <th></th>\n",
       "      <th>feat</th>\n",
       "      <th>impo</th>\n",
       "    </tr>\n",
       "  </thead>\n",
       "  <tbody>\n",
       "    <tr>\n",
       "      <th>14</th>\n",
       "      <td>country_mean_before_12_after_0</td>\n",
       "      <td>17.5883</td>\n",
       "    </tr>\n",
       "    <tr>\n",
       "      <th>8</th>\n",
       "      <td>brand_last_before_24_after_0</td>\n",
       "      <td>12.2969</td>\n",
       "    </tr>\n",
       "    <tr>\n",
       "      <th>1</th>\n",
       "      <td>num_generics</td>\n",
       "      <td>9.87668</td>\n",
       "    </tr>\n",
       "    <tr>\n",
       "      <th>10</th>\n",
       "      <td>brand_last_before_3_after_0</td>\n",
       "      <td>9.46799</td>\n",
       "    </tr>\n",
       "    <tr>\n",
       "      <th>9</th>\n",
       "      <td>brand_last_before_12_after_0</td>\n",
       "      <td>8.58935</td>\n",
       "    </tr>\n",
       "    <tr>\n",
       "      <th>7</th>\n",
       "      <td>last_before_3_after_0</td>\n",
       "      <td>7.29981</td>\n",
       "    </tr>\n",
       "    <tr>\n",
       "      <th>4</th>\n",
       "      <td>last_before_24_after_0</td>\n",
       "      <td>7.11302</td>\n",
       "    </tr>\n",
       "    <tr>\n",
       "      <th>2</th>\n",
       "      <td>C</td>\n",
       "      <td>6.39018</td>\n",
       "    </tr>\n",
       "    <tr>\n",
       "      <th>5</th>\n",
       "      <td>last_before_12_after_0</td>\n",
       "      <td>4.32803</td>\n",
       "    </tr>\n",
       "    <tr>\n",
       "      <th>11</th>\n",
       "      <td>country_last_before_24_after_0</td>\n",
       "      <td>3.07172</td>\n",
       "    </tr>\n",
       "  </tbody>\n",
       "</table>\n",
       "</div>"
      ],
      "text/plain": [
       "                              feat     impo\n",
       "14  country_mean_before_12_after_0  17.5883\n",
       "8     brand_last_before_24_after_0  12.2969\n",
       "1                     num_generics  9.87668\n",
       "10     brand_last_before_3_after_0  9.46799\n",
       "9     brand_last_before_12_after_0  8.58935\n",
       "7            last_before_3_after_0  7.29981\n",
       "4           last_before_24_after_0  7.11302\n",
       "2                                C  6.39018\n",
       "5           last_before_12_after_0  4.32803\n",
       "11  country_last_before_24_after_0  3.07172"
      ]
     },
     "execution_count": 67,
     "metadata": {},
     "output_type": "execute_result"
    }
   ],
   "source": [
    "d = [X_train.columns,cb.get_feature_importance()]\n",
    "\n",
    "d = pd.DataFrame(d).T\n",
    "\n",
    "d.columns = ['feat','impo']\n",
    "\n",
    "#d.sort_values('impo',ascending=False).feat.to_list()\n",
    "d.sort_values('impo',ascending=False).head(10)"
   ]
  },
  {
   "cell_type": "code",
   "execution_count": 68,
   "metadata": {
    "ExecuteTime": {
     "end_time": "2020-11-28T18:44:30.405247Z",
     "start_time": "2020-11-28T18:44:30.397515Z"
    }
   },
   "outputs": [
    {
     "data": {
      "text/plain": [
       "['country_mean_before_12_after_0',\n",
       " 'brand_last_before_24_after_0',\n",
       " 'num_generics',\n",
       " 'brand_last_before_3_after_0',\n",
       " 'brand_last_before_12_after_0',\n",
       " 'last_before_3_after_0',\n",
       " 'last_before_24_after_0',\n",
       " 'C',\n",
       " 'last_before_12_after_0',\n",
       " 'country_last_before_24_after_0',\n",
       " 'last_before_Inf_after_0',\n",
       " 'n_channels',\n",
       " 'country_median_before_Inf_after_0',\n",
       " 'country_median_before_24_after_0',\n",
       " 'country_last_before_Inf_after_0',\n",
       " 'country_last_before_3_after_0',\n",
       " 'country_last_before_12_after_0',\n",
       " 'country_median_before_12_after_0',\n",
       " 'month_num',\n",
       " 'random',\n",
       " 'country_median_before_3_after_0',\n",
       " 'A']"
      ]
     },
     "execution_count": 68,
     "metadata": {},
     "output_type": "execute_result"
    }
   ],
   "source": [
    "d.sort_values('impo',ascending=False).feat.to_list()"
   ]
  },
  {
   "cell_type": "code",
   "execution_count": 18,
   "metadata": {
    "ExecuteTime": {
     "end_time": "2020-11-28T17:02:53.125756Z",
     "start_time": "2020-11-28T17:02:53.110034Z"
    }
   },
   "outputs": [],
   "source": [
    "train = df[df['test']==0]\n",
    "test = df[df['test']==1]"
   ]
  },
  {
   "cell_type": "code",
   "execution_count": 57,
   "metadata": {
    "ExecuteTime": {
     "end_time": "2020-11-27T15:41:46.639570Z",
     "start_time": "2020-11-27T15:41:46.632172Z"
    }
   },
   "outputs": [
    {
     "data": {
      "text/plain": [
       "Index(['month_num', 'test', 'num_generics', 'B', 'D', 'C', 'A',\n",
       "       'last_before_24_after_0', 'mean_before_24_after_0',\n",
       "       'median_before_24_after_0', 'last_before_12_after_0',\n",
       "       'mean_before_12_after_0', 'median_before_12_after_0',\n",
       "       'last_before_Inf_after_0', 'mean_before_Inf_after_0',\n",
       "       'median_before_Inf_after_0', 'last_before_3_after_0',\n",
       "       'mean_before_3_after_0', 'median_before_3_after_0',\n",
       "       'brand_last_before_24_after_0', 'brand_mean_before_24_after_0',\n",
       "       'brand_median_before_24_after_0', 'brand_last_before_12_after_0',\n",
       "       'brand_mean_before_12_after_0', 'brand_median_before_12_after_0',\n",
       "       'brand_last_before_Inf_after_0', 'brand_mean_before_Inf_after_0',\n",
       "       'brand_median_before_Inf_after_0', 'brand_last_before_3_after_0',\n",
       "       'brand_mean_before_3_after_0', 'brand_median_before_3_after_0',\n",
       "       'country_last_before_24_after_0', 'country_mean_before_24_after_0',\n",
       "       'country_median_before_24_after_0', 'country_last_before_12_after_0',\n",
       "       'country_mean_before_12_after_0', 'country_median_before_12_after_0',\n",
       "       'country_last_before_Inf_after_0', 'country_mean_before_Inf_after_0',\n",
       "       'country_median_before_Inf_after_0', 'country_last_before_3_after_0',\n",
       "       'country_mean_before_3_after_0', 'country_median_before_3_after_0'],\n",
       "      dtype='object')"
      ]
     },
     "execution_count": 57,
     "metadata": {},
     "output_type": "execute_result"
    }
   ],
   "source": [
    "df.columns"
   ]
  },
  {
   "cell_type": "code",
   "execution_count": 49,
   "metadata": {
    "ExecuteTime": {
     "end_time": "2020-11-27T11:19:18.703782Z",
     "start_time": "2020-11-27T11:19:18.520883Z"
    },
    "scrolled": false
   },
   "outputs": [
    {
     "data": {
      "text/plain": [
       "<AxesSubplot:>"
      ]
     },
     "execution_count": 49,
     "metadata": {},
     "output_type": "execute_result"
    },
    {
     "data": {
      "image/png": "[encoded data removed]",
      "text/plain": [
       "<Figure size 432x288 with 1 Axes>"
      ]
     },
     "metadata": {},
     "output_type": "display_data"
    }
   ],
   "source": [
    "sns.violinplot(x=train.B.values)\n",
    "\n"
   ]
  },
  {
   "cell_type": "code",
   "execution_count": 48,
   "metadata": {
    "ExecuteTime": {
     "end_time": "2020-11-27T11:19:16.448599Z",
     "start_time": "2020-11-27T11:19:16.285631Z"
    }
   },
   "outputs": [
    {
     "data": {
      "text/plain": [
       "<AxesSubplot:>"
      ]
     },
     "execution_count": 48,
     "metadata": {},
     "output_type": "execute_result"
    },
    {
     "data": {
      "image/png": "[encoded data removed]",
      "text/plain": [
       "<Figure size 432x288 with 1 Axes>"
      ]
     },
     "metadata": {},
     "output_type": "display_data"
    }
   ],
   "source": [
    "sns.violinplot(x=test.B.values)"
   ]
  },
  {
   "cell_type": "code",
   "execution_count": 37,
   "metadata": {
    "ExecuteTime": {
     "end_time": "2020-11-27T11:15:55.233197Z",
     "start_time": "2020-11-27T11:15:55.065534Z"
    }
   },
   "outputs": [
    {
     "data": {
      "text/plain": [
       "<AxesSubplot:>"
      ]
     },
     "execution_count": 37,
     "metadata": {},
     "output_type": "execute_result"
    },
    {
     "data": {
      "image/png": "[encoded data removed]",
      "text/plain": [
       "<Figure size 432x288 with 1 Axes>"
      ]
     },
     "metadata": {
      "needs_background": "light"
     },
     "output_type": "display_data"
    }
   ],
   "source": [
    "test.brand_last_before_Inf_after_0.hist()"
   ]
  },
  {
   "cell_type": "code",
   "execution_count": 87,
   "metadata": {
    "ExecuteTime": {
     "end_time": "2020-11-27T15:48:11.519080Z",
     "start_time": "2020-11-27T15:48:11.480419Z"
    }
   },
   "outputs": [
    {
     "data": {
      "text/plain": [
       "DecisionTreeClassifier(ccp_alpha=0.0, class_weight=None, criterion='gini',\n",
       "                       max_depth=None, max_features=None, max_leaf_nodes=None,\n",
       "                       min_impurity_decrease=0.0, min_impurity_split=None,\n",
       "                       min_samples_leaf=1, min_samples_split=2,\n",
       "                       min_weight_fraction_leaf=0.0, presort='deprecated',\n",
       "                       random_state=None, splitter='best')"
      ]
     },
     "execution_count": 87,
     "metadata": {},
     "output_type": "execute_result"
    }
   ],
   "source": [
    "from sklearn.tree import DecisionTreeClassifier,plot_tree\n",
    "\n",
    "dt = DecisionTreeClassifier()\n",
    "dt.fit(X_train['brand_mean_before_Inf_after_0'].values.reshape(-1, 1),y_train)\n"
   ]
  },
  {
   "cell_type": "code",
   "execution_count": 88,
   "metadata": {
    "ExecuteTime": {
     "end_time": "2020-11-27T15:48:12.203101Z",
     "start_time": "2020-11-27T15:48:12.189357Z"
    }
   },
   "outputs": [
    {
     "data": {
      "text/plain": [
       "0.8655823855830713"
      ]
     },
     "execution_count": 88,
     "metadata": {},
     "output_type": "execute_result"
    }
   ],
   "source": [
    "roc_auc_score(y_test,dt.predict(X_test['brand_mean_before_Inf_after_0'].values.reshape(-1, 1)))"
   ]
  },
  {
   "cell_type": "code",
   "execution_count": 86,
   "metadata": {
    "ExecuteTime": {
     "end_time": "2020-11-27T15:47:10.408737Z",
     "start_time": "2020-11-27T15:47:08.970004Z"
    },
    "scrolled": false
   },
   "outputs": [
    {
     "data": {
      "image/png": "[encoded data removed]",
      "text/plain": [
       "<Figure size 432x288 with 1 Axes>"
      ]
     },
     "metadata": {},
     "output_type": "display_data"
    }
   ],
   "source": [
    "plt.figure()\n",
    "plot_tree(dt);\n",
    "plt.savefig('tree.svg',format='svg')\n",
    "plt.show()"
   ]
  },
  {
   "cell_type": "code",
   "execution_count": null,
   "metadata": {},
   "outputs": [],
   "source": []
  }
 ],
 "metadata": {
  "kernelspec": {
   "display_name": "Python 3",
   "language": "python",
   "name": "python3"
  },
  "language_info": {
   "codemirror_mode": {
    "name": "ipython",
    "version": 3
   },
   "file_extension": ".py",
   "mimetype": "text/x-python",
   "name": "python",
   "nbconvert_exporter": "python",
   "pygments_lexer": "ipython3",
   "version": "3.7.6"
  }
 },
 "nbformat": 4,
 "nbformat_minor": 4
}
